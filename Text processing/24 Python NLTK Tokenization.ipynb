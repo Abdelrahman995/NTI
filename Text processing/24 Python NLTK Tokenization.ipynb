{
 "cells": [
  {
   "cell_type": "code",
   "execution_count": 2,
   "metadata": {},
   "outputs": [],
   "source": [
    "from nltk.tokenize import sent_tokenize, word_tokenize"
   ]
  },
  {
   "cell_type": "code",
   "execution_count": 3,
   "metadata": {
    "collapsed": true
   },
   "outputs": [],
   "source": [
    "ar_text = \"بسم الله الرحمن الرحيم\""
   ]
  },
  {
   "cell_type": "code",
   "execution_count": 4,
   "metadata": {},
   "outputs": [
    {
     "data": {
      "text/plain": [
       "['بسم', 'الله', 'الرحمن', 'الرحيم']"
      ]
     },
     "execution_count": 4,
     "metadata": {},
     "output_type": "execute_result"
    }
   ],
   "source": [
    "word_tokenize(ar_text)"
   ]
  },
  {
   "cell_type": "code",
   "execution_count": 6,
   "metadata": {},
   "outputs": [
    {
     "name": "stdout",
     "output_type": "stream",
     "text": [
      "بسم\n",
      "الله\n",
      "الرحمن\n",
      "الرحيم\n"
     ]
    }
   ],
   "source": [
    "for word in word_tokenize(ar_text):\n",
    "    print (word)"
   ]
  },
  {
   "cell_type": "code",
   "execution_count": 7,
   "metadata": {
    "collapsed": true
   },
   "outputs": [],
   "source": [
    "from nltk.corpus import brown"
   ]
  },
  {
   "cell_type": "code",
   "execution_count": 19,
   "metadata": {},
   "outputs": [],
   "source": [
    "p = brown.raw('ca01')[0:1200]"
   ]
  },
  {
   "cell_type": "code",
   "execution_count": 21,
   "metadata": {},
   "outputs": [],
   "source": [
    "sents = sent_tokenize(p)"
   ]
  },
  {
   "cell_type": "code",
   "execution_count": 23,
   "metadata": {
    "collapsed": true
   },
   "outputs": [],
   "source": [
    "wordlist = []\n",
    "for s in sents:\n",
    "    for w in word_tokenize(s):\n",
    "        wordlist.append(w)"
   ]
  },
  {
   "cell_type": "code",
   "execution_count": 24,
   "metadata": {},
   "outputs": [
    {
     "data": {
      "text/plain": [
       "['The/at',\n",
       " 'Fulton/np-tl',\n",
       " 'County/nn-tl',\n",
       " 'Grand/jj-tl',\n",
       " 'Jury/nn-tl',\n",
       " 'said/vbd',\n",
       " 'Friday/nr',\n",
       " 'an/at',\n",
       " 'investigation/nn',\n",
       " 'of/in',\n",
       " \"Atlanta's/np\",\n",
       " '$',\n",
       " 'recent/jj',\n",
       " 'primary/nn',\n",
       " 'election/nn',\n",
       " 'produced/vbd',\n",
       " '``',\n",
       " '/',\n",
       " '``',\n",
       " 'no/at',\n",
       " 'evidence/nn',\n",
       " \"''/\",\n",
       " \"''\",\n",
       " 'that/cs',\n",
       " 'any/dti',\n",
       " 'irregularities/nns',\n",
       " 'took/vbd',\n",
       " 'place/nn',\n",
       " './',\n",
       " '.',\n",
       " 'The/at',\n",
       " 'jury/nn',\n",
       " 'further/rbr',\n",
       " 'said/vbd',\n",
       " 'in/in',\n",
       " 'term-end/nn',\n",
       " 'presentments/nns',\n",
       " 'that/cs',\n",
       " 'the/at',\n",
       " 'City/nn-tl',\n",
       " 'Executive/jj-tl',\n",
       " 'Committee/nn-tl',\n",
       " ',',\n",
       " '/',\n",
       " ',',\n",
       " 'which/wdt',\n",
       " 'had/hvd',\n",
       " 'over-all/jj',\n",
       " 'charge/nn',\n",
       " 'of/in',\n",
       " 'the/at',\n",
       " 'election/nn',\n",
       " ',',\n",
       " '/',\n",
       " ',',\n",
       " '``',\n",
       " '/',\n",
       " '``',\n",
       " 'deserves/vbz',\n",
       " 'the/at',\n",
       " 'praise/nn',\n",
       " 'and/cc',\n",
       " 'thanks/nns',\n",
       " 'of/in',\n",
       " 'the/at',\n",
       " 'City/nn-tl',\n",
       " 'of/in-tl',\n",
       " 'Atlanta/np-tl',\n",
       " \"''/\",\n",
       " \"''\",\n",
       " 'for/in',\n",
       " 'the/at',\n",
       " 'manner/nn',\n",
       " 'in/in',\n",
       " 'which/wdt',\n",
       " 'the/at',\n",
       " 'election/nn',\n",
       " 'was/bedz',\n",
       " 'conducted/vbn',\n",
       " './',\n",
       " '.',\n",
       " 'The/at',\n",
       " 'September-October/np',\n",
       " 'term/nn',\n",
       " 'jury/nn',\n",
       " 'had/hvd',\n",
       " 'been/ben',\n",
       " 'charged/vbn',\n",
       " 'by/in',\n",
       " 'Fulton/np-tl',\n",
       " 'Superior/jj-tl',\n",
       " 'Court/nn-tl',\n",
       " 'Judge/nn-tl',\n",
       " 'Durwood/np',\n",
       " 'Pye/np',\n",
       " 'to/to',\n",
       " 'investigate/vb',\n",
       " 'reports/nns',\n",
       " 'of/in',\n",
       " 'possible/jj',\n",
       " '``',\n",
       " '/',\n",
       " '``',\n",
       " 'irregularities/nns',\n",
       " \"''/\",\n",
       " \"''\",\n",
       " 'in/in',\n",
       " 'the/at',\n",
       " 'hard-fought/jj',\n",
       " 'primary/nn',\n",
       " 'which/wdt',\n",
       " 'was/bedz',\n",
       " 'won/vbn',\n",
       " 'by/in',\n",
       " 'Mayor-nominate/nn-tl',\n",
       " 'Ivan/np',\n",
       " 'Allen/np',\n",
       " 'Jr./np',\n",
       " './',\n",
       " '.',\n",
       " '``',\n",
       " '/',\n",
       " '``',\n",
       " 'Only/rb',\n",
       " 'a/at',\n",
       " 'relative/jj',\n",
       " 'handful/nn',\n",
       " 'of/in',\n",
       " 'such/jj',\n",
       " 'reports/nns',\n",
       " 'was/bedz',\n",
       " 'received/vbn',\n",
       " \"''/\",\n",
       " \"''\",\n",
       " ',',\n",
       " '/',\n",
       " ',',\n",
       " 'the/at',\n",
       " 'jury/nn',\n",
       " 'said/vbd',\n",
       " ',',\n",
       " '/',\n",
       " ',',\n",
       " '``',\n",
       " '/',\n",
       " '``',\n",
       " 'considering/in',\n",
       " 'the/at',\n",
       " 'widespread/jj',\n",
       " 'interest/nn',\n",
       " 'in/in',\n",
       " 'th']"
      ]
     },
     "execution_count": 24,
     "metadata": {},
     "output_type": "execute_result"
    }
   ],
   "source": [
    "wordlist"
   ]
  },
  {
   "cell_type": "code",
   "execution_count": 26,
   "metadata": {},
   "outputs": [
    {
     "data": {
      "text/plain": [
       "['DET', 'NN', 'VB', 'DET', 'JJ', 'NN', 'NN', 'IN', 'DET', 'NN']"
      ]
     },
     "execution_count": 26,
     "metadata": {},
     "output_type": "execute_result"
    }
   ],
   "source": [
    "word_tokenize('DET NN VB DET JJ NN NN IN DET NN')"
   ]
  },
  {
   "cell_type": "code",
   "execution_count": 30,
   "metadata": {},
   "outputs": [
    {
     "data": {
      "text/plain": [
       "['DET NN.', 'VB DET JJ.', 'NN NN IN DET NN']"
      ]
     },
     "execution_count": 30,
     "metadata": {},
     "output_type": "execute_result"
    }
   ],
   "source": [
    "sent_tokenize('DET NN. VB DET JJ. NN NN IN DET NN')"
   ]
  },
  {
   "cell_type": "code",
   "execution_count": null,
   "metadata": {
    "collapsed": true
   },
   "outputs": [],
   "source": []
  }
 ],
 "metadata": {
  "anaconda-cloud": {},
  "kernelspec": {
   "display_name": "Python 3",
   "language": "python",
   "name": "python3"
  },
  "language_info": {
   "codemirror_mode": {
    "name": "ipython",
    "version": 3
   },
   "file_extension": ".py",
   "mimetype": "text/x-python",
   "name": "python",
   "nbconvert_exporter": "python",
   "pygments_lexer": "ipython3",
   "version": "3.7.3"
  }
 },
 "nbformat": 4,
 "nbformat_minor": 1
}
