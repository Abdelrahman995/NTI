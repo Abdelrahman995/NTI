{
 "cells": [
  {
   "cell_type": "code",
   "execution_count": 2,
   "metadata": {
    "collapsed": true
   },
   "outputs": [],
   "source": [
    "from nltk.tokenize import word_tokenize\n",
    "from nltk.stem import PorterStemmer"
   ]
  },
  {
   "cell_type": "code",
   "execution_count": 3,
   "metadata": {
    "collapsed": true
   },
   "outputs": [],
   "source": [
    "ps = PorterStemmer()"
   ]
  },
  {
   "cell_type": "code",
   "execution_count": 6,
   "metadata": {},
   "outputs": [
    {
     "data": {
      "text/plain": [
       "'stem'"
      ]
     },
     "execution_count": 6,
     "metadata": {},
     "output_type": "execute_result"
    }
   ],
   "source": [
    "ps.stem(\"stemming\")"
   ]
  },
  {
   "cell_type": "code",
   "execution_count": 7,
   "metadata": {},
   "outputs": [
    {
     "data": {
      "text/plain": [
       "'token'"
      ]
     },
     "execution_count": 7,
     "metadata": {},
     "output_type": "execute_result"
    }
   ],
   "source": [
    "ps.stem(\"tokenization\")"
   ]
  },
  {
   "cell_type": "code",
   "execution_count": 8,
   "metadata": {
    "collapsed": true
   },
   "outputs": [],
   "source": [
    "text = \"this is an example where we can remove stop words and filter the sentence to be more useful.\""
   ]
  },
  {
   "cell_type": "code",
   "execution_count": 9,
   "metadata": {
    "collapsed": true
   },
   "outputs": [],
   "source": [
    "words = word_tokenize(text)"
   ]
  },
  {
   "cell_type": "code",
   "execution_count": 10,
   "metadata": {
    "collapsed": true
   },
   "outputs": [],
   "source": [
    "stems = []\n",
    "for w in words:\n",
    "    stems.append(ps.stem(w))"
   ]
  },
  {
   "cell_type": "code",
   "execution_count": 11,
   "metadata": {},
   "outputs": [
    {
     "data": {
      "text/plain": [
       "['thi',\n",
       " 'is',\n",
       " 'an',\n",
       " 'exampl',\n",
       " 'where',\n",
       " 'we',\n",
       " 'can',\n",
       " 'remov',\n",
       " 'stop',\n",
       " 'word',\n",
       " 'and',\n",
       " 'filter',\n",
       " 'the',\n",
       " 'sentenc',\n",
       " 'to',\n",
       " 'be',\n",
       " 'more',\n",
       " 'use',\n",
       " '.']"
      ]
     },
     "execution_count": 11,
     "metadata": {},
     "output_type": "execute_result"
    }
   ],
   "source": [
    "stems"
   ]
  },
  {
   "cell_type": "code",
   "execution_count": 17,
   "metadata": {
    "collapsed": true
   },
   "outputs": [],
   "source": [
    "from nltk.stem.isri import ISRIStemmer"
   ]
  },
  {
   "cell_type": "code",
   "execution_count": 18,
   "metadata": {
    "collapsed": true
   },
   "outputs": [],
   "source": [
    "ar_sentence = \"بسم الله الرحمن الرحيم ، قال الرجل لأخيه لربما تقابلنا مرة أخرى فعسى أن أراك على خير.\""
   ]
  },
  {
   "cell_type": "code",
   "execution_count": 21,
   "metadata": {},
   "outputs": [
    {
     "data": {
      "text/plain": [
       "'بسم الل رحم رحم ، قال رجل لأخ لرب قبل مرة خرى عسى ان ارك على خير .'"
      ]
     },
     "execution_count": 21,
     "metadata": {},
     "output_type": "execute_result"
    }
   ],
   "source": [
    "stemmed_words = []\n",
    "stemmed_sent = []\n",
    "words = word_tokenize(ar_sentence)\n",
    "st = ISRIStemmer()\n",
    "for word in words:\n",
    "    stemmed_words.append(st.stem(word))\n",
    "    stemmed_sent = \" \".join(stemmed_words)\n",
    "\n",
    "stemmed_sent"
   ]
  },
  {
   "cell_type": "code",
   "execution_count": 23,
   "metadata": {
    "collapsed": true
   },
   "outputs": [],
   "source": [
    "ar_sw_file = open('ar_stop_word_list.txt', 'r+')\n",
    "ar_stop_word_list = ar_sw_file.read()\n",
    "ar_stop_word_list = word_tokenize(ar_stop_word_list)"
   ]
  },
  {
   "cell_type": "code",
   "execution_count": 26,
   "metadata": {},
   "outputs": [
    {
     "data": {
      "text/plain": [
       "'بسم الل رحم رحم رجل لأخ لرب قبل مرة خرى عسى ارك خير .'"
      ]
     },
     "execution_count": 26,
     "metadata": {},
     "output_type": "execute_result"
    }
   ],
   "source": [
    "stemmed_words = []\n",
    "stemmed_sent = []\n",
    "words = word_tokenize(ar_sentence)\n",
    "st = ISRIStemmer()\n",
    "for word in words:\n",
    "    if word in ar_stop_word_list:\n",
    "        continue\n",
    "    stemmed_words.append(st.stem(word))\n",
    "    stemmed_sent = \" \".join(stemmed_words)\n",
    "\n",
    "stemmed_sent"
   ]
  },
  {
   "cell_type": "code",
   "execution_count": null,
   "metadata": {
    "collapsed": true
   },
   "outputs": [],
   "source": []
  }
 ],
 "metadata": {
  "kernelspec": {
   "display_name": "Python 3",
   "language": "python",
   "name": "python3"
  },
  "language_info": {
   "codemirror_mode": {
    "name": "ipython",
    "version": 3
   },
   "file_extension": ".py",
   "mimetype": "text/x-python",
   "name": "python",
   "nbconvert_exporter": "python",
   "pygments_lexer": "ipython3",
   "version": "3.7.3"
  }
 },
 "nbformat": 4,
 "nbformat_minor": 1
}
