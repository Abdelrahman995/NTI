{
 "cells": [
  {
   "cell_type": "code",
   "execution_count": 16,
   "metadata": {
    "collapsed": true
   },
   "outputs": [],
   "source": [
    "from nltk.tokenize import word_tokenize\n",
    "import nltk\n",
    "from nltk.stem.isri import ISRIStemmer"
   ]
  },
  {
   "cell_type": "code",
   "execution_count": 9,
   "metadata": {
    "collapsed": true
   },
   "outputs": [],
   "source": [
    "text = \"هذا طالب مجتهد جدا\""
   ]
  },
  {
   "cell_type": "code",
   "execution_count": 10,
   "metadata": {
    "collapsed": true
   },
   "outputs": [],
   "source": [
    "words = word_tokenize(text)"
   ]
  },
  {
   "cell_type": "code",
   "execution_count": 11,
   "metadata": {
    "collapsed": false
   },
   "outputs": [
    {
     "data": {
      "text/plain": [
       "['هذا', 'طالب', 'مجتهد', 'جدا']"
      ]
     },
     "execution_count": 11,
     "metadata": {},
     "output_type": "execute_result"
    }
   ],
   "source": [
    "words"
   ]
  },
  {
   "cell_type": "code",
   "execution_count": 13,
   "metadata": {
    "collapsed": false
   },
   "outputs": [
    {
     "data": {
      "text/plain": [
       "[('هذا', 'JJ'), ('طالب', 'NNP'), ('مجتهد', 'NNP'), ('جدا', 'NN')]"
      ]
     },
     "execution_count": 13,
     "metadata": {},
     "output_type": "execute_result"
    }
   ],
   "source": [
    "tokens = nltk.pos_tag(words)\n",
    "tokens"
   ]
  },
  {
   "cell_type": "code",
   "execution_count": 14,
   "metadata": {
    "collapsed": true
   },
   "outputs": [],
   "source": [
    "ar_sentence = \"بسم الله الرحمن الرحيم ، قال الرجل لأخيه لربما تقابلنا مرة أخرى فعسى أن أراك على خير.\""
   ]
  },
  {
   "cell_type": "code",
   "execution_count": 20,
   "metadata": {
    "collapsed": false
   },
   "outputs": [
    {
     "name": "stdout",
     "output_type": "stream",
     "text": [
      "بسم الل رحم رحم رجل لأخ لرب قبل مرة خرى عسى ارك خير .\n",
      "[('بسم', 'JJ'), ('الل', 'NNP'), ('رحم', 'NNP'), ('رحم', 'NNP'), ('رجل', 'NNP'), ('لأخ', 'NNP'), ('لرب', 'NNP'), ('قبل', 'NNP'), ('مرة', 'NNP'), ('خرى', 'NNP'), ('عسى', 'NNP'), ('ارك', 'NNP'), ('خير', 'NNP'), ('.', '.')]\n"
     ]
    }
   ],
   "source": [
    "ar_sw_file = open('ar_stop_word_list.txt', 'r+')\n",
    "ar_stop_word_list = ar_sw_file.read()\n",
    "ar_stop_word_list = word_tokenize(ar_stop_word_list)\n",
    "\n",
    "stemmed_words = []\n",
    "stemmed_sent = []\n",
    "words = word_tokenize(ar_sentence)\n",
    "st = ISRIStemmer()\n",
    "for word in words:\n",
    "    if word in ar_stop_word_list:\n",
    "        continue\n",
    "    stemmed_words.append(st.stem(word))\n",
    "    stemmed_sent = \" \".join(stemmed_words)\n",
    "\n",
    "print (stemmed_sent)\n",
    "print (nltk.pos_tag(stemmed_words))"
   ]
  },
  {
   "cell_type": "code",
   "execution_count": null,
   "metadata": {
    "collapsed": true
   },
   "outputs": [],
   "source": []
  }
 ],
 "metadata": {
  "anaconda-cloud": {},
  "kernelspec": {
   "display_name": "Python [Root]",
   "language": "python",
   "name": "Python [Root]"
  },
  "language_info": {
   "codemirror_mode": {
    "name": "ipython",
    "version": 3
   },
   "file_extension": ".py",
   "mimetype": "text/x-python",
   "name": "python",
   "nbconvert_exporter": "python",
   "pygments_lexer": "ipython3",
   "version": "3.5.2"
  }
 },
 "nbformat": 4,
 "nbformat_minor": 0
}
