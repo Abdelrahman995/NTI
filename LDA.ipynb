{
 "cells": [
  {
   "cell_type": "code",
   "execution_count": 31,
   "metadata": {},
   "outputs": [],
   "source": [
    "\n",
    "# Importing the libraries\n",
    "import numpy as np\n",
    "import matplotlib.pyplot as plt\n",
    "import pandas as pd"
   ]
  },
  {
   "cell_type": "code",
   "execution_count": 32,
   "metadata": {},
   "outputs": [],
   "source": [
    "\n",
    "# Importing the dataset\n",
    "dataset = pd.read_csv('Wine.csv')\n",
    "X = dataset.iloc[:, 0:13].values\n",
    "y = dataset.iloc[:, 13].values"
   ]
  },
  {
   "cell_type": "code",
   "execution_count": 33,
   "metadata": {},
   "outputs": [],
   "source": [
    "\n",
    "# Splitting the dataset into the Training set and Test set\n",
    "from sklearn.model_selection import train_test_split\n",
    "X_train, X_test, y_train, y_test = train_test_split(X, y, test_size = 0.2, random_state = 0)"
   ]
  },
  {
   "cell_type": "code",
   "execution_count": 34,
   "metadata": {},
   "outputs": [
    {
     "name": "stdout",
     "output_type": "stream",
     "text": [
      "[[1.374e+01 1.670e+00 2.250e+00 1.640e+01 1.180e+02 2.600e+00 2.900e+00\n",
      "  2.100e-01 1.620e+00 5.850e+00 9.200e-01 3.200e+00 1.060e+03]\n",
      " [1.279e+01 2.670e+00 2.480e+00 2.200e+01 1.120e+02 1.480e+00 1.360e+00\n",
      "  2.400e-01 1.260e+00 1.080e+01 4.800e-01 1.470e+00 4.800e+02]\n",
      " [1.237e+01 1.130e+00 2.160e+00 1.900e+01 8.700e+01 3.500e+00 3.100e+00\n",
      "  1.900e-01 1.870e+00 4.450e+00 1.220e+00 2.870e+00 4.200e+02]\n",
      " [1.356e+01 1.730e+00 2.460e+00 2.050e+01 1.160e+02 2.960e+00 2.780e+00\n",
      "  2.000e-01 2.450e+00 6.250e+00 9.800e-01 3.030e+00 1.120e+03]\n",
      " [1.305e+01 5.800e+00 2.130e+00 2.150e+01 8.600e+01 2.620e+00 2.650e+00\n",
      "  3.000e-01 2.010e+00 2.600e+00 7.300e-01 3.100e+00 3.800e+02]\n",
      " [1.156e+01 2.050e+00 3.230e+00 2.850e+01 1.190e+02 3.180e+00 5.080e+00\n",
      "  4.700e-01 1.870e+00 6.000e+00 9.300e-01 3.690e+00 4.650e+02]\n",
      " [1.406e+01 2.150e+00 2.610e+00 1.760e+01 1.210e+02 2.600e+00 2.510e+00\n",
      "  3.100e-01 1.250e+00 5.050e+00 1.060e+00 3.580e+00 1.295e+03]\n",
      " [1.236e+01 3.830e+00 2.380e+00 2.100e+01 8.800e+01 2.300e+00 9.200e-01\n",
      "  5.000e-01 1.040e+00 7.650e+00 5.600e-01 1.580e+00 5.200e+02]\n",
      " [1.225e+01 1.730e+00 2.120e+00 1.900e+01 8.000e+01 1.650e+00 2.030e+00\n",
      "  3.700e-01 1.630e+00 3.400e+00 1.000e+00 3.170e+00 5.100e+02]\n",
      " [1.208e+01 1.830e+00 2.320e+00 1.850e+01 8.100e+01 1.600e+00 1.500e+00\n",
      "  5.200e-01 1.640e+00 2.400e+00 1.080e+00 2.270e+00 4.800e+02]\n",
      " [1.336e+01 2.560e+00 2.350e+00 2.000e+01 8.900e+01 1.400e+00 5.000e-01\n",
      "  3.700e-01 6.400e-01 5.600e+00 7.000e-01 2.470e+00 7.800e+02]\n",
      " [1.388e+01 5.040e+00 2.230e+00 2.000e+01 8.000e+01 9.800e-01 3.400e-01\n",
      "  4.000e-01 6.800e-01 4.900e+00 5.800e-01 1.330e+00 4.150e+02]\n",
      " [1.420e+01 1.760e+00 2.450e+00 1.520e+01 1.120e+02 3.270e+00 3.390e+00\n",
      "  3.400e-01 1.970e+00 6.750e+00 1.050e+00 2.850e+00 1.450e+03]\n",
      " [1.237e+01 1.070e+00 2.100e+00 1.850e+01 8.800e+01 3.520e+00 3.750e+00\n",
      "  2.400e-01 1.950e+00 4.500e+00 1.040e+00 2.770e+00 6.600e+02]\n",
      " [1.358e+01 2.580e+00 2.690e+00 2.450e+01 1.050e+02 1.550e+00 8.400e-01\n",
      "  3.900e-01 1.540e+00 8.660e+00 7.400e-01 1.800e+00 7.500e+02]\n",
      " [1.200e+01 9.200e-01 2.000e+00 1.900e+01 8.600e+01 2.420e+00 2.260e+00\n",
      "  3.000e-01 1.430e+00 2.500e+00 1.380e+00 3.120e+00 2.780e+02]\n",
      " [1.376e+01 1.530e+00 2.700e+00 1.950e+01 1.320e+02 2.950e+00 2.740e+00\n",
      "  5.000e-01 1.350e+00 5.400e+00 1.250e+00 3.000e+00 1.235e+03]\n",
      " [1.419e+01 1.590e+00 2.480e+00 1.650e+01 1.080e+02 3.300e+00 3.930e+00\n",
      "  3.200e-01 1.860e+00 8.700e+00 1.230e+00 2.820e+00 1.680e+03]\n",
      " [1.264e+01 1.360e+00 2.020e+00 1.680e+01 1.000e+02 2.020e+00 1.410e+00\n",
      "  5.300e-01 6.200e-01 5.750e+00 9.800e-01 1.590e+00 4.500e+02]\n",
      " [1.383e+01 1.650e+00 2.600e+00 1.720e+01 9.400e+01 2.450e+00 2.990e+00\n",
      "  2.200e-01 2.290e+00 5.600e+00 1.240e+00 3.370e+00 1.265e+03]\n",
      " [1.311e+01 1.010e+00 1.700e+00 1.500e+01 7.800e+01 2.980e+00 3.180e+00\n",
      "  2.600e-01 2.280e+00 5.300e+00 1.120e+00 3.180e+00 5.020e+02]\n",
      " [1.305e+01 1.650e+00 2.550e+00 1.800e+01 9.800e+01 2.450e+00 2.430e+00\n",
      "  2.900e-01 1.440e+00 4.250e+00 1.120e+00 2.510e+00 1.105e+03]\n",
      " [1.324e+01 2.590e+00 2.870e+00 2.100e+01 1.180e+02 2.800e+00 2.690e+00\n",
      "  3.900e-01 1.820e+00 4.320e+00 1.040e+00 2.930e+00 7.350e+02]\n",
      " [1.251e+01 1.730e+00 1.980e+00 2.050e+01 8.500e+01 2.200e+00 1.920e+00\n",
      "  3.200e-01 1.480e+00 2.940e+00 1.040e+00 3.570e+00 6.720e+02]\n",
      " [1.233e+01 1.100e+00 2.280e+00 1.600e+01 1.010e+02 2.050e+00 1.090e+00\n",
      "  6.300e-01 4.100e-01 3.270e+00 1.250e+00 1.670e+00 6.800e+02]\n",
      " [1.252e+01 2.430e+00 2.170e+00 2.100e+01 8.800e+01 2.550e+00 2.270e+00\n",
      "  2.600e-01 1.220e+00 2.000e+00 9.000e-01 2.780e+00 3.250e+02]\n",
      " [1.243e+01 1.530e+00 2.290e+00 2.150e+01 8.600e+01 2.740e+00 3.150e+00\n",
      "  3.900e-01 1.770e+00 3.940e+00 6.900e-01 2.840e+00 3.520e+02]\n",
      " [1.216e+01 1.610e+00 2.310e+00 2.280e+01 9.000e+01 1.780e+00 1.690e+00\n",
      "  4.300e-01 1.560e+00 2.450e+00 1.330e+00 2.260e+00 4.950e+02]\n",
      " [1.176e+01 2.680e+00 2.920e+00 2.000e+01 1.030e+02 1.750e+00 2.030e+00\n",
      "  6.000e-01 1.050e+00 3.800e+00 1.230e+00 2.500e+00 6.070e+02]\n",
      " [1.378e+01 2.760e+00 2.300e+00 2.200e+01 9.000e+01 1.350e+00 6.800e-01\n",
      "  4.100e-01 1.030e+00 9.580e+00 7.000e-01 1.680e+00 6.150e+02]\n",
      " [1.339e+01 1.770e+00 2.620e+00 1.610e+01 9.300e+01 2.850e+00 2.940e+00\n",
      "  3.400e-01 1.450e+00 4.800e+00 9.200e-01 3.220e+00 1.195e+03]\n",
      " [1.422e+01 1.700e+00 2.300e+00 1.630e+01 1.180e+02 3.200e+00 3.000e+00\n",
      "  2.600e-01 2.030e+00 6.380e+00 9.400e-01 3.310e+00 9.700e+02]\n",
      " [1.204e+01 4.300e+00 2.380e+00 2.200e+01 8.000e+01 2.100e+00 1.750e+00\n",
      "  4.200e-01 1.350e+00 2.600e+00 7.900e-01 2.570e+00 5.800e+02]\n",
      " [1.421e+01 4.040e+00 2.440e+00 1.890e+01 1.110e+02 2.850e+00 2.650e+00\n",
      "  3.000e-01 1.250e+00 5.240e+00 8.700e-01 3.330e+00 1.080e+03]\n",
      " [1.483e+01 1.640e+00 2.170e+00 1.400e+01 9.700e+01 2.800e+00 2.980e+00\n",
      "  2.900e-01 1.980e+00 5.200e+00 1.080e+00 2.850e+00 1.045e+03]\n",
      " [1.305e+01 1.770e+00 2.100e+00 1.700e+01 1.070e+02 3.000e+00 3.000e+00\n",
      "  2.800e-01 2.030e+00 5.040e+00 8.800e-01 3.350e+00 8.850e+02]]\n"
     ]
    }
   ],
   "source": [
    "print(X_test)"
   ]
  },
  {
   "cell_type": "code",
   "execution_count": 35,
   "metadata": {},
   "outputs": [
    {
     "name": "stdout",
     "output_type": "stream",
     "text": [
      "[[ 9.38847070e-01 -6.32166068e-01 -4.35010303e-01 -9.19695615e-01\n",
      "   1.26324041e+00  5.59998633e-01  9.77754158e-01 -1.20637533e+00\n",
      "   2.36680192e-02  3.39284695e-01 -1.45574805e-01  8.52295413e-01\n",
      "   1.04940526e+00]\n",
      " [-2.42263344e-01  2.67579163e-01  4.20859365e-01  7.12764102e-01\n",
      "   8.40672358e-01 -1.27747161e+00 -6.05828120e-01 -9.70634096e-01\n",
      "  -5.87397203e-01  2.42611713e+00 -2.06608025e+00 -1.55017035e+00\n",
      "  -8.66598582e-01]\n",
      " [-7.64438475e-01 -1.11802849e+00 -7.69915825e-01 -1.61767889e-01\n",
      "  -9.20027861e-01  2.03653722e+00  1.18341419e+00 -1.36353615e+00\n",
      "   4.48018868e-01 -2.50930538e-01  1.16386073e+00  3.94021597e-01\n",
      "  -1.06480588e+00]\n",
      " [ 7.15057728e-01 -5.78181354e-01  3.46435916e-01  2.75498106e-01\n",
      "   1.12238439e+00  1.15061407e+00  8.54358136e-01 -1.28495574e+00\n",
      "   1.43251284e+00  5.07917619e-01  1.16312302e-01  6.16214963e-01\n",
      "   1.24761256e+00]\n",
      " [ 8.09879269e-02  3.08378173e+00 -8.81550999e-01  5.67008770e-01\n",
      "  -9.90455870e-01  5.92810602e-01  7.20679112e-01 -4.99151627e-01\n",
      "   6.85655343e-01 -1.03085781e+00 -9.74883977e-01  7.13424560e-01\n",
      "  -1.19694407e+00]\n",
      " [-1.77149051e+00 -2.90262880e-01  3.21173872e+00  2.60758342e+00\n",
      "   1.33366842e+00  1.51154572e+00  3.21944855e+00  8.36715367e-01\n",
      "   4.48018868e-01  4.02522042e-01 -1.01926954e-01  1.53276259e+00\n",
      "  -9.16150406e-01]\n",
      " [ 1.33669479e+00 -2.00288357e-01  9.04611787e-01 -5.69882819e-01\n",
      "   1.47452444e+00  5.59998633e-01  5.76717087e-01 -4.20571216e-01\n",
      "  -6.04371237e-01  2.01884783e-03  4.65495111e-01  1.38000466e+00\n",
      "   1.82571717e+00]\n",
      " [-7.76871216e-01  1.31128363e+00  4.87421183e-02  4.21253438e-01\n",
      "  -8.49599852e-01  6.78191041e-02 -1.05828020e+00  1.07245660e+00\n",
      "  -9.60825950e-01  1.09813285e+00 -1.71689745e+00 -1.39741241e+00\n",
      "  -7.34460386e-01]\n",
      " [-9.13631369e-01 -5.78181354e-01 -9.18762724e-01 -1.61767889e-01\n",
      "  -1.41302392e+00 -9.98569875e-01  8.31330005e-02  5.09112525e-02\n",
      "   4.06420531e-02 -6.93591962e-01  2.03608004e-01  8.10634157e-01\n",
      "  -7.67494935e-01]\n",
      " [-1.12498797e+00 -4.88206831e-01 -1.74528230e-01 -3.07523221e-01\n",
      "  -1.34259591e+00 -1.08059980e+00 -4.61866095e-01  1.22961742e+00\n",
      "   5.76160871e-02 -1.11517427e+00  5.52790813e-01 -4.39203523e-01\n",
      "  -8.66598582e-01]\n",
      " [ 4.66402904e-01  1.68607187e-01 -6.28930558e-02  1.29742774e-01\n",
      "  -7.79171843e-01 -1.40871948e+00 -1.49016628e+00  5.09112525e-02\n",
      "  -1.63978731e+00  2.33889118e-01 -1.10582753e+00 -1.61461816e-01\n",
      "   1.24437889e-01]\n",
      " [ 1.11290545e+00  2.39997536e+00 -5.09433752e-01  1.29742774e-01\n",
      "  -1.41302392e+00 -2.09777082e+00 -1.65469430e+00  2.86652487e-01\n",
      "  -1.57189117e+00 -6.12184986e-02 -1.62960174e+00 -1.74458954e+00\n",
      "  -1.08132315e+00]\n",
      " [ 1.51075317e+00 -5.51188997e-01  3.09224191e-01 -1.26950841e+00\n",
      "   8.40672358e-01  1.65919958e+00  1.48162125e+00 -1.84829982e-01\n",
      "   6.17759208e-01  7.18708773e-01  4.21847260e-01  3.66247427e-01\n",
      "   2.33775268e+00]\n",
      " [-7.64438475e-01 -1.17201321e+00 -9.93186174e-01 -3.07523221e-01\n",
      "  -8.49599852e-01  2.06934919e+00  1.85180931e+00 -9.70634096e-01\n",
      "   5.83811140e-01 -2.29851422e-01  3.78199409e-01  2.55150744e-01\n",
      "  -2.71976699e-01]\n",
      " [ 7.39923211e-01  1.86602092e-01  1.20230558e+00  1.44154076e+00\n",
      "   3.47676297e-01 -1.16262972e+00 -1.14054421e+00  2.08072075e-01\n",
      "  -1.12124252e-01  1.52393098e+00 -9.31236125e-01 -1.09189653e+00\n",
      "   2.53342422e-02]\n",
      " [-1.22444990e+00 -1.30697499e+00 -1.36530342e+00 -1.61767889e-01\n",
      "  -9.90455870e-01  2.64690916e-01  3.19642042e-01 -4.99151627e-01\n",
      "  -2.98838626e-01 -1.07301604e+00  1.86222635e+00  7.41198731e-01\n",
      "  -1.53389647e+00]\n",
      " [ 9.63712552e-01 -7.58130400e-01  1.23951731e+00 -1.60125576e-02\n",
      "   2.24923253e+00  1.13420808e+00  8.13226129e-01  1.07245660e+00\n",
      "  -4.34630898e-01  1.49572656e-01  1.29480428e+00  5.74553707e-01\n",
      "   1.62750987e+00]\n",
      " [ 1.49832042e+00 -7.04145686e-01  4.20859365e-01 -8.90544549e-01\n",
      "   5.58960323e-01  1.70841753e+00  2.03690334e+00 -3.41990805e-01\n",
      "   4.31044834e-01  1.54079428e+00  1.20750858e+00  3.24586171e-01\n",
      "   3.09754730e+00]\n",
      " [-4.28754462e-01 -9.11087089e-01 -1.29087997e+00 -8.03091350e-01\n",
      "  -4.46374703e-03 -3.91548456e-01 -5.54413111e-01  1.30819784e+00\n",
      "  -1.67373538e+00  2.97126464e-01  1.16312302e-01 -1.38352533e+00\n",
      "  -9.65702229e-01]\n",
      " [ 1.05074174e+00 -6.50160973e-01  8.67400062e-01 -6.86487084e-01\n",
      "  -4.27031800e-01  3.13908869e-01  1.07030117e+00 -1.12779492e+00\n",
      "   1.16092829e+00  2.33889118e-01  1.25115643e+00  1.08837586e+00\n",
      "   1.72661352e+00]\n",
      " [ 1.55584374e-01 -1.22599792e+00 -2.48165516e+00 -1.32781054e+00\n",
      "  -1.55387994e+00  1.18342604e+00  1.26567821e+00 -8.13473273e-01\n",
      "   1.14395426e+00  1.07414425e-01  7.27382218e-01  8.24521243e-01\n",
      "  -7.93922574e-01]\n",
      " [ 8.09879269e-02 -6.50160973e-01  6.81341438e-01 -4.53278553e-01\n",
      "  -1.45319765e-01  3.13908869e-01  4.94453073e-01 -5.77732039e-01\n",
      "  -2.81864592e-01 -3.35247000e-01  7.27382218e-01 -1.05913475e-01\n",
      "   1.19806073e+00]\n",
      " [ 3.17210010e-01  1.95599544e-01  1.87211663e+00  4.21253438e-01\n",
      "   1.26324041e+00  8.88118319e-01  7.61811120e-01  2.08072075e-01\n",
      "   3.63148698e-01 -3.05736238e-01  3.78199409e-01  4.77344109e-01\n",
      "  -2.42175814e-02]\n",
      " [-5.90380098e-01 -5.78181354e-01 -1.43972687e+00  2.75498106e-01\n",
      "  -1.06088388e+00 -9.62407389e-02 -2.99800193e-02 -3.41990805e-01\n",
      "  -2.13968456e-01 -8.87519825e-01  3.78199409e-01  1.36611757e+00\n",
      "  -2.32335240e-01]\n",
      " [-8.14169440e-01 -1.14502085e+00 -3.23375129e-01 -1.03629988e+00\n",
      "   6.59642617e-02 -3.42330503e-01 -8.83469169e-01  2.09400195e+00\n",
      "  -2.03019009e+00 -7.48397663e-01  1.29480428e+00 -1.27242864e+00\n",
      "  -2.05907601e-01]\n",
      " [-5.77947357e-01  5.16403072e-02 -7.32704101e-01  4.21253438e-01\n",
      "  -8.49599852e-01  4.77968712e-01  3.29925044e-01 -8.13473273e-01\n",
      "  -6.55293339e-01 -1.28380720e+00 -2.32870507e-01  2.69037829e-01\n",
      "  -1.37863409e+00]\n",
      " [-6.89842028e-01 -7.58130400e-01 -2.86163404e-01  5.67008770e-01\n",
      "  -9.90455870e-01  7.89682413e-01  1.23482920e+00  2.08072075e-01\n",
      "   2.78278529e-01 -4.65937515e-01 -1.14947538e+00  3.52360341e-01\n",
      "  -1.28944081e+00]\n",
      " [-1.02552604e+00 -6.86150782e-01 -2.11739955e-01  9.45972633e-01\n",
      "  -7.08743835e-01 -7.85292079e-01 -2.66489061e-01  5.22393721e-01\n",
      "  -7.81761846e-02 -1.09409516e+00  1.64398709e+00 -4.53090608e-01\n",
      "  -8.17046759e-01]\n",
      " [-1.52283569e+00  2.76576615e-01  2.05817525e+00  1.29742774e-01\n",
      "   2.06820279e-01 -8.34510032e-01  8.31330005e-02  1.85826072e+00\n",
      "  -9.43851916e-01 -5.24959039e-01  1.20750858e+00 -1.19800560e-01\n",
      "  -4.47059809e-01]\n",
      " [ 9.88578035e-01  3.48556233e-01 -2.48951679e-01  7.12764102e-01\n",
      "  -7.08743835e-01 -1.49074940e+00 -1.30507224e+00  3.65232898e-01\n",
      "  -9.77799984e-01  1.91178671e+00 -1.10582753e+00 -1.25854156e+00\n",
      "  -4.20632170e-01]\n",
      " [ 5.03701128e-01 -5.42191545e-01  9.41823511e-01 -1.00714881e+00\n",
      "  -4.97459808e-01  9.70148241e-01  1.01888616e+00 -1.84829982e-01\n",
      "  -2.64890558e-01 -1.03376729e-01 -1.45574805e-01  8.80069584e-01\n",
      "   1.49537167e+00]\n",
      " [ 1.53561865e+00 -6.05173711e-01 -2.48951679e-01 -9.48846682e-01\n",
      "   1.26324041e+00  1.54435769e+00  1.08058418e+00 -8.13473273e-01\n",
      "   7.19603411e-01  5.62723319e-01 -5.82791026e-02  1.00505335e+00\n",
      "   7.52094321e-01]\n",
      " [-1.17471893e+00  1.73416389e+00  4.87421183e-02  7.12764102e-01\n",
      "  -1.41302392e+00 -2.60300582e-01 -2.04791050e-01  4.43813310e-01\n",
      "  -4.34630898e-01 -1.03085781e+00 -7.12996870e-01 -2.25909628e-02\n",
      "  -5.36253092e-01]\n",
      " [ 1.52318591e+00  1.50023013e+00  2.72012467e-01 -1.90918956e-01\n",
      "   7.70244349e-01  9.70148241e-01  7.20679112e-01 -4.99151627e-01\n",
      "  -6.04371237e-01  8.21194866e-02 -3.63814061e-01  1.03282752e+00\n",
      "   1.11547436e+00]\n",
      " [ 2.29401586e+00 -6.59158425e-01 -7.32704101e-01 -1.61932121e+00\n",
      "  -2.15747773e-01  8.88118319e-01  1.06001817e+00 -5.77732039e-01\n",
      "   6.34733242e-01  6.52561942e-02  5.52790813e-01  3.66247427e-01\n",
      "   9.99853439e-01]\n",
      " [ 8.09879269e-02 -5.42191545e-01 -9.93186174e-01 -7.44789217e-01\n",
      "   4.88532314e-01  1.21623801e+00  1.08058418e+00 -6.56312450e-01\n",
      "   7.19603411e-01 -2.19697526e-03 -3.20166209e-01  1.06060169e+00\n",
      "   4.71300654e-01]]\n"
     ]
    }
   ],
   "source": [
    "\n",
    "# Feature Scaling\n",
    "from sklearn.preprocessing import StandardScaler\n",
    "sc = StandardScaler()\n",
    "X_train = sc.fit_transform(X_train)\n",
    "X_test = sc.transform(X_test)\n",
    "print(X_test)\n"
   ]
  },
  {
   "cell_type": "code",
   "execution_count": 41,
   "metadata": {},
   "outputs": [
    {
     "name": "stdout",
     "output_type": "stream",
     "text": [
      "[[-3.83960313 -1.54567265]\n",
      " [ 5.24601727 -1.72358501]\n",
      " [-0.66064228  3.32231072]\n",
      " [-2.16667061 -1.0147427 ]\n",
      " [-0.16079996  1.27171643]\n",
      " [-5.31374258  2.22014536]\n",
      " [-4.78386714 -3.11508054]\n",
      " [ 5.55863966 -0.88556084]\n",
      " [-1.29772139  2.40714074]\n",
      " [ 0.53068371  2.37759837]\n",
      " [ 2.36900593 -1.81859204]\n",
      " [ 5.14502202 -1.88061526]\n",
      " [-5.27947032 -3.32510044]\n",
      " [-2.70452577  2.61522323]\n",
      " [ 4.32314426 -2.14569837]\n",
      " [-0.65835601  4.67751669]\n",
      " [-4.07332713 -1.95266123]\n",
      " [-6.55291385 -4.01098911]\n",
      " [ 2.40020179  1.14618328]\n",
      " [-5.14219986 -2.02120623]\n",
      " [-2.46475469  2.81225673]\n",
      " [-2.5190649  -1.07965428]\n",
      " [-1.79798575 -0.47987658]\n",
      " [-1.43423986  2.41298601]\n",
      " [ 1.11433225  0.98310413]\n",
      " [ 0.28604133  2.81262488]\n",
      " [-1.21198193  2.73115246]\n",
      " [ 0.84900431  3.34996047]\n",
      " [-1.03105294  0.53029203]\n",
      " [ 4.83489722 -2.08108766]\n",
      " [-4.75464421 -2.30157612]\n",
      " [-3.33786142 -1.51860576]\n",
      " [ 1.02045007  1.04261267]\n",
      " [-3.1347464  -2.97819832]\n",
      " [-4.25385909 -1.84683986]\n",
      " [-3.16058359  0.39860037]]\n"
     ]
    },
    {
     "name": "stderr",
     "output_type": "stream",
     "text": [
      "/home/boody/anaconda3/lib/python3.7/site-packages/sklearn/discriminant_analysis.py:466: ChangedBehaviorWarning: n_components cannot be larger than min(n_features, n_classes - 1). Using min(n_features, n_classes - 1) = min(2, 3 - 1) = 2 components.\n",
      "  ChangedBehaviorWarning)\n",
      "/home/boody/anaconda3/lib/python3.7/site-packages/sklearn/discriminant_analysis.py:472: FutureWarning: In version 0.23, setting n_components > min(n_features, n_classes - 1) will raise a ValueError. You should set n_components to None (default), or a value smaller or equal to min(n_features, n_classes - 1).\n",
      "  warnings.warn(future_msg, FutureWarning)\n"
     ]
    }
   ],
   "source": [
    "\n",
    "# Applying LDA\n",
    "from sklearn.discriminant_analysis import LinearDiscriminantAnalysis as LDA\n",
    "lda = LDA(n_components = 4)\n",
    "X_train = lda.fit_transform(X_train, y_train)\n",
    "X_test = lda.transform(X_test)\n",
    "print(X_test)"
   ]
  },
  {
   "cell_type": "code",
   "execution_count": 37,
   "metadata": {},
   "outputs": [
    {
     "name": "stderr",
     "output_type": "stream",
     "text": [
      "/home/boody/anaconda3/lib/python3.7/site-packages/sklearn/linear_model/logistic.py:432: FutureWarning: Default solver will be changed to 'lbfgs' in 0.22. Specify a solver to silence this warning.\n",
      "  FutureWarning)\n",
      "/home/boody/anaconda3/lib/python3.7/site-packages/sklearn/linear_model/logistic.py:469: FutureWarning: Default multi_class will be changed to 'auto' in 0.22. Specify the multi_class option to silence this warning.\n",
      "  \"this warning.\", FutureWarning)\n"
     ]
    },
    {
     "data": {
      "text/plain": [
       "LogisticRegression(C=1.0, class_weight=None, dual=False, fit_intercept=True,\n",
       "                   intercept_scaling=1, l1_ratio=None, max_iter=100,\n",
       "                   multi_class='warn', n_jobs=None, penalty='l2',\n",
       "                   random_state=0, solver='warn', tol=0.0001, verbose=0,\n",
       "                   warm_start=False)"
      ]
     },
     "execution_count": 37,
     "metadata": {},
     "output_type": "execute_result"
    }
   ],
   "source": [
    "\n",
    "# Fitting Logistic Regression to the Training set\n",
    "from sklearn.linear_model import LogisticRegression\n",
    "classifier = LogisticRegression(random_state = 0)\n",
    "classifier.fit(X_train, y_train)"
   ]
  },
  {
   "cell_type": "code",
   "execution_count": 38,
   "metadata": {},
   "outputs": [],
   "source": [
    "\n",
    "\n",
    "# Predicting the Test set results\n",
    "y_pred = classifier.predict(X_test)\n"
   ]
  },
  {
   "cell_type": "code",
   "execution_count": 39,
   "metadata": {},
   "outputs": [
    {
     "name": "stdout",
     "output_type": "stream",
     "text": [
      "[[14  0  0]\n",
      " [ 0 16  0]\n",
      " [ 0  0  6]]\n"
     ]
    }
   ],
   "source": [
    "\n",
    "\n",
    "\n",
    "# Making the Confusion Matrix\n",
    "from sklearn.metrics import confusion_matrix\n",
    "cm = confusion_matrix(y_test, y_pred)\n",
    "print(cm)"
   ]
  },
  {
   "cell_type": "code",
   "execution_count": 40,
   "metadata": {},
   "outputs": [
    {
     "name": "stderr",
     "output_type": "stream",
     "text": [
      "No handles with labels found to put in legend.\n"
     ]
    },
    {
     "data": {
      "image/png": "[encoded data removed]",
      "text/plain": [
       "<Figure size 432x288 with 1 Axes>"
      ]
     },
     "metadata": {
      "needs_background": "light"
     },
     "output_type": "display_data"
    }
   ],
   "source": [
    "\n",
    "\n",
    "# Visualising the Training set results\n",
    "from matplotlib.colors import ListedColormap\n",
    "X_set, y_set = X_train, y_train\n",
    "X1, X2 = np.meshgrid(np.arange(start = X_set[:, 0].min() - 1, stop = X_set[:, 0].max() + 1, step = 0.01),\n",
    "                     np.arange(start = X_set[:, 1].min() - 1, stop = X_set[:, 1].max() + 1, step = 0.01))\n",
    "plt.contourf(X1, X2, classifier.predict(np.array([X1.ravel(), X2.ravel()]).T).reshape(X1.shape),\n",
    "             alpha = 0.75, cmap = ListedColormap(('red', 'green', 'blue')))\n",
    "plt.xlim(X1.min(), X1.max())\n",
    "plt.ylim(X2.min(), X2.max())\n",
    "for i, j in enumerate(np.unique(y_set)):\n",
    "    plt.scatter(X_set[y_set == j, 0], X_set[y_set == j, 1],\n",
    "                )\n",
    "plt.title('Logistic Regression (Training set)')\n",
    "plt.xlabel('LD1')\n",
    "plt.ylabel('LD2')\n",
    "plt.legend()\n",
    "plt.show()"
   ]
  },
  {
   "cell_type": "code",
   "execution_count": null,
   "metadata": {},
   "outputs": [],
   "source": []
  },
  {
   "cell_type": "code",
   "execution_count": null,
   "metadata": {},
   "outputs": [],
   "source": []
  },
  {
   "cell_type": "code",
   "execution_count": null,
   "metadata": {},
   "outputs": [],
   "source": []
  }
 ],
 "metadata": {
  "kernelspec": {
   "display_name": "Python 3",
   "language": "python",
   "name": "python3"
  },
  "language_info": {
   "codemirror_mode": {
    "name": "ipython",
    "version": 3
   },
   "file_extension": ".py",
   "mimetype": "text/x-python",
   "name": "python",
   "nbconvert_exporter": "python",
   "pygments_lexer": "ipython3",
   "version": "3.7.3"
  }
 },
 "nbformat": 4,
 "nbformat_minor": 2
}
